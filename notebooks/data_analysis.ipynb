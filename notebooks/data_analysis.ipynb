{
 "cells": [
  {
   "cell_type": "code",
   "execution_count": null,
   "metadata": {
    "vscode": {
     "languageId": "plaintext"
    }
   },
   "outputs": [],
   "source": [
    "# Import necessary libraries\n",
    "import pandas as pd\n",
    "import matplotlib.pyplot as plt\n",
    "import seaborn as sns\n",
    "\n",
    "# Load dataset\n",
    "data_path = \"../data/student_data.csv\"\n",
    "df = pd.read_csv(data_path)\n",
    "\n",
    "# Display the first few rows\n",
    "df.head()\n"
   ]
  },
  {
   "cell_type": "markdown",
   "metadata": {},
   "source": [
    "# Check missing values in each column\n",
    "missing_values = df.isnull().sum()\n",
    "print(\"Missing Values:\\n\", missing_values)\n"
   ]
  },
  {
   "cell_type": "code",
   "execution_count": null,
   "metadata": {
    "vscode": {
     "languageId": "plaintext"
    }
   },
   "outputs": [],
   "source": [
    "# Display summary statistics\n",
    "df.describe()\n"
   ]
  },
  {
   "cell_type": "markdown",
   "metadata": {},
   "source": [
    "# Plot histogram of skill scores\n",
    "plt.figure(figsize=(8,5))\n",
    "sns.histplot(df['skill_score'], bins=20, kde=True, color=\"blue\")\n",
    "plt.title(\"Distribution of Skill Scores\")\n",
    "plt.xlabel(\"Skill Score\")\n",
    "plt.ylabel(\"Frequency\")\n",
    "plt.show()\n"
   ]
  },
  {
   "cell_type": "markdown",
   "metadata": {},
   "source": [
    "# Compute correlation matrix\n",
    "plt.figure(figsize=(10, 6))\n",
    "sns.heatmap(df.corr(), annot=True, cmap=\"coolwarm\", linewidths=0.5)\n",
    "plt.title(\"Feature Correlation Heatmap\")\n",
    "plt.show()\n"
   ]
  },
  {
   "cell_type": "markdown",
   "metadata": {},
   "source": [
    "plt.figure(figsize=(8,5))\n",
    "sns.scatterplot(x=df['study_hours'], y=df['skill_score'], color=\"red\")\n",
    "plt.title(\"Study Hours vs. Skill Score\")\n",
    "plt.xlabel(\"Study Hours\")\n",
    "plt.ylabel(\"Skill Score\")\n",
    "plt.show()\n"
   ]
  },
  {
   "cell_type": "markdown",
   "metadata": {},
   "source": [
    "plt.figure(figsize=(8,5))\n",
    "sns.boxplot(x=df['attendance'], y=df['skill_score'])\n",
    "plt.title(\"Attendance vs. Skill Score\")\n",
    "plt.xlabel(\"Attendance (%)\")\n",
    "plt.ylabel(\"Skill Score\")\n",
    "plt.show()\n"
   ]
  }
 ],
 "metadata": {
  "language_info": {
   "name": "python"
  }
 },
 "nbformat": 4,
 "nbformat_minor": 2
}
